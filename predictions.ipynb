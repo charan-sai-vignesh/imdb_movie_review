{
  "nbformat": 4,
  "nbformat_minor": 0,
  "metadata": {
    "colab": {
      "provenance": [],
      "authorship_tag": "ABX9TyNInM2rlEwd0GH6iGnNf38/",
      "include_colab_link": true
    },
    "kernelspec": {
      "name": "python3",
      "display_name": "Python 3"
    },
    "language_info": {
      "name": "python"
    }
  },
  "cells": [
    {
      "cell_type": "markdown",
      "metadata": {
        "id": "view-in-github",
        "colab_type": "text"
      },
      "source": [
        "<a href=\"https://colab.research.google.com/github/charan-sai-vignesh/imdb_movie_review/blob/main/predictions.ipynb\" target=\"_parent\"><img src=\"https://colab.research.google.com/assets/colab-badge.svg\" alt=\"Open In Colab\"/></a>"
      ]
    },
    {
      "cell_type": "code",
      "execution_count": 1,
      "metadata": {
        "id": "SKlZJKbQxryo"
      },
      "outputs": [],
      "source": [
        "import numpy as np\n",
        "import tensorflow as tf\n",
        "from tensorflow import keras\n",
        "from tensorflow.keras.datasets import imdb\n",
        "from tensorflow.keras.layers import Dense,Embedding,SimpleRNN\n",
        "from tensorflow.keras.models import Sequential\n",
        "from tensorflow.keras.preprocessing import sequence"
      ]
    },
    {
      "cell_type": "code",
      "source": [
        "word_index=imdb.get_word_index()\n",
        "reverse_word_index = {value: key for key, value in word_index.items()}"
      ],
      "metadata": {
        "id": "L0bHuTHtx_VJ"
      },
      "execution_count": 43,
      "outputs": []
    },
    {
      "cell_type": "code",
      "source": [
        "from tensorflow.keras.models import load_model\n",
        "model=load_model('imdb.keras')\n"
      ],
      "metadata": {
        "id": "zaBoUDZ82FOG"
      },
      "execution_count": 10,
      "outputs": []
    },
    {
      "cell_type": "code",
      "source": [
        "model.summary(\n",
        "\n",
        ")"
      ],
      "metadata": {
        "colab": {
          "base_uri": "https://localhost:8080/",
          "height": 245
        },
        "id": "Q7EJAfemx_Pb",
        "outputId": "078f49d3-6271-48b1-db50-ddbcb5440db4"
      },
      "execution_count": 11,
      "outputs": [
        {
          "output_type": "display_data",
          "data": {
            "text/plain": [
              "\u001b[1mModel: \"sequential\"\u001b[0m\n"
            ],
            "text/html": [
              "<pre style=\"white-space:pre;overflow-x:auto;line-height:normal;font-family:Menlo,'DejaVu Sans Mono',consolas,'Courier New',monospace\"><span style=\"font-weight: bold\">Model: \"sequential\"</span>\n",
              "</pre>\n"
            ]
          },
          "metadata": {}
        },
        {
          "output_type": "display_data",
          "data": {
            "text/plain": [
              "┏━━━━━━━━━━━━━━━━━━━━━━━━━━━━━━━━━┳━━━━━━━━━━━━━━━━━━━━━━━━┳━━━━━━━━━━━━━━━┓\n",
              "┃\u001b[1m \u001b[0m\u001b[1mLayer (type)                   \u001b[0m\u001b[1m \u001b[0m┃\u001b[1m \u001b[0m\u001b[1mOutput Shape          \u001b[0m\u001b[1m \u001b[0m┃\u001b[1m \u001b[0m\u001b[1m      Param #\u001b[0m\u001b[1m \u001b[0m┃\n",
              "┡━━━━━━━━━━━━━━━━━━━━━━━━━━━━━━━━━╇━━━━━━━━━━━━━━━━━━━━━━━━╇━━━━━━━━━━━━━━━┩\n",
              "│ embedding (\u001b[38;5;33mEmbedding\u001b[0m)           │ (\u001b[38;5;45mNone\u001b[0m, \u001b[38;5;34m500\u001b[0m, \u001b[38;5;34m128\u001b[0m)       │     \u001b[38;5;34m1,280,000\u001b[0m │\n",
              "├─────────────────────────────────┼────────────────────────┼───────────────┤\n",
              "│ simple_rnn (\u001b[38;5;33mSimpleRNN\u001b[0m)          │ (\u001b[38;5;45mNone\u001b[0m, \u001b[38;5;34m128\u001b[0m)            │        \u001b[38;5;34m32,896\u001b[0m │\n",
              "├─────────────────────────────────┼────────────────────────┼───────────────┤\n",
              "│ dense (\u001b[38;5;33mDense\u001b[0m)                   │ (\u001b[38;5;45mNone\u001b[0m, \u001b[38;5;34m1\u001b[0m)              │           \u001b[38;5;34m129\u001b[0m │\n",
              "└─────────────────────────────────┴────────────────────────┴───────────────┘\n"
            ],
            "text/html": [
              "<pre style=\"white-space:pre;overflow-x:auto;line-height:normal;font-family:Menlo,'DejaVu Sans Mono',consolas,'Courier New',monospace\">┏━━━━━━━━━━━━━━━━━━━━━━━━━━━━━━━━━┳━━━━━━━━━━━━━━━━━━━━━━━━┳━━━━━━━━━━━━━━━┓\n",
              "┃<span style=\"font-weight: bold\"> Layer (type)                    </span>┃<span style=\"font-weight: bold\"> Output Shape           </span>┃<span style=\"font-weight: bold\">       Param # </span>┃\n",
              "┡━━━━━━━━━━━━━━━━━━━━━━━━━━━━━━━━━╇━━━━━━━━━━━━━━━━━━━━━━━━╇━━━━━━━━━━━━━━━┩\n",
              "│ embedding (<span style=\"color: #0087ff; text-decoration-color: #0087ff\">Embedding</span>)           │ (<span style=\"color: #00d7ff; text-decoration-color: #00d7ff\">None</span>, <span style=\"color: #00af00; text-decoration-color: #00af00\">500</span>, <span style=\"color: #00af00; text-decoration-color: #00af00\">128</span>)       │     <span style=\"color: #00af00; text-decoration-color: #00af00\">1,280,000</span> │\n",
              "├─────────────────────────────────┼────────────────────────┼───────────────┤\n",
              "│ simple_rnn (<span style=\"color: #0087ff; text-decoration-color: #0087ff\">SimpleRNN</span>)          │ (<span style=\"color: #00d7ff; text-decoration-color: #00d7ff\">None</span>, <span style=\"color: #00af00; text-decoration-color: #00af00\">128</span>)            │        <span style=\"color: #00af00; text-decoration-color: #00af00\">32,896</span> │\n",
              "├─────────────────────────────────┼────────────────────────┼───────────────┤\n",
              "│ dense (<span style=\"color: #0087ff; text-decoration-color: #0087ff\">Dense</span>)                   │ (<span style=\"color: #00d7ff; text-decoration-color: #00d7ff\">None</span>, <span style=\"color: #00af00; text-decoration-color: #00af00\">1</span>)              │           <span style=\"color: #00af00; text-decoration-color: #00af00\">129</span> │\n",
              "└─────────────────────────────────┴────────────────────────┴───────────────┘\n",
              "</pre>\n"
            ]
          },
          "metadata": {}
        },
        {
          "output_type": "display_data",
          "data": {
            "text/plain": [
              "\u001b[1m Total params: \u001b[0m\u001b[38;5;34m3,939,077\u001b[0m (15.03 MB)\n"
            ],
            "text/html": [
              "<pre style=\"white-space:pre;overflow-x:auto;line-height:normal;font-family:Menlo,'DejaVu Sans Mono',consolas,'Courier New',monospace\"><span style=\"font-weight: bold\"> Total params: </span><span style=\"color: #00af00; text-decoration-color: #00af00\">3,939,077</span> (15.03 MB)\n",
              "</pre>\n"
            ]
          },
          "metadata": {}
        },
        {
          "output_type": "display_data",
          "data": {
            "text/plain": [
              "\u001b[1m Trainable params: \u001b[0m\u001b[38;5;34m1,313,025\u001b[0m (5.01 MB)\n"
            ],
            "text/html": [
              "<pre style=\"white-space:pre;overflow-x:auto;line-height:normal;font-family:Menlo,'DejaVu Sans Mono',consolas,'Courier New',monospace\"><span style=\"font-weight: bold\"> Trainable params: </span><span style=\"color: #00af00; text-decoration-color: #00af00\">1,313,025</span> (5.01 MB)\n",
              "</pre>\n"
            ]
          },
          "metadata": {}
        },
        {
          "output_type": "display_data",
          "data": {
            "text/plain": [
              "\u001b[1m Non-trainable params: \u001b[0m\u001b[38;5;34m0\u001b[0m (0.00 B)\n"
            ],
            "text/html": [
              "<pre style=\"white-space:pre;overflow-x:auto;line-height:normal;font-family:Menlo,'DejaVu Sans Mono',consolas,'Courier New',monospace\"><span style=\"font-weight: bold\"> Non-trainable params: </span><span style=\"color: #00af00; text-decoration-color: #00af00\">0</span> (0.00 B)\n",
              "</pre>\n"
            ]
          },
          "metadata": {}
        },
        {
          "output_type": "display_data",
          "data": {
            "text/plain": [
              "\u001b[1m Optimizer params: \u001b[0m\u001b[38;5;34m2,626,052\u001b[0m (10.02 MB)\n"
            ],
            "text/html": [
              "<pre style=\"white-space:pre;overflow-x:auto;line-height:normal;font-family:Menlo,'DejaVu Sans Mono',consolas,'Courier New',monospace\"><span style=\"font-weight: bold\"> Optimizer params: </span><span style=\"color: #00af00; text-decoration-color: #00af00\">2,626,052</span> (10.02 MB)\n",
              "</pre>\n"
            ]
          },
          "metadata": {}
        }
      ]
    },
    {
      "cell_type": "code",
      "source": [
        "all_weights = model.get_weights()"
      ],
      "metadata": {
        "id": "lnjhJstAx_Lr"
      },
      "execution_count": 14,
      "outputs": []
    },
    {
      "cell_type": "code",
      "source": [
        "all_weights"
      ],
      "metadata": {
        "colab": {
          "base_uri": "https://localhost:8080/"
        },
        "id": "mvpHeh29x_Ks",
        "outputId": "daca6541-77c1-4d5a-ebdf-ef2ff3db6c78"
      },
      "execution_count": 15,
      "outputs": [
        {
          "output_type": "execute_result",
          "data": {
            "text/plain": [
              "[array([[ 2.05002022e+00,  2.52314973e+00,  2.14230561e+00, ...,\n",
              "          2.67861080e+00, -2.40487790e+00, -1.97410631e+00],\n",
              "        [-1.29575618e-02,  3.79566133e-01, -5.19109052e-03, ...,\n",
              "          2.18852594e-01, -1.57774091e-01, -7.14205578e-02],\n",
              "        [ 4.77139512e-03, -7.79299363e-02,  7.04303011e-03, ...,\n",
              "         -1.61175728e-02,  6.78171441e-02, -7.69352913e-03],\n",
              "        ...,\n",
              "        [ 5.17302416e-02,  6.70430111e-03, -1.05870634e-01, ...,\n",
              "          4.67288010e-02, -6.62135845e-03,  8.10533315e-02],\n",
              "        [-7.37502798e-02,  5.34991659e-02, -4.19175848e-02, ...,\n",
              "          4.34761867e-02, -3.54312584e-02,  2.23155436e-03],\n",
              "        [ 6.91793859e-02,  1.67209253e-01, -1.87499449e-01, ...,\n",
              "          2.29762886e-02,  6.36646673e-02,  1.27688989e-01]], dtype=float32),\n",
              " array([[-0.10006119,  0.06668175,  0.13789825, ..., -0.06796424,\n",
              "         -0.00937433, -0.24809101],\n",
              "        [-0.03997253,  0.13787921,  0.262045  , ...,  0.08435353,\n",
              "          0.09813093,  0.08545825],\n",
              "        [ 0.06582712, -0.19120726, -0.15426895, ..., -0.14925784,\n",
              "          0.09942668,  0.16360293],\n",
              "        ...,\n",
              "        [-0.04294026, -0.08327255, -0.05081807, ...,  0.07384854,\n",
              "         -0.17509674,  0.1466483 ],\n",
              "        [-0.06436847,  0.3117454 ,  0.11754394, ..., -0.04413131,\n",
              "          0.01123349,  0.01890267],\n",
              "        [ 0.10628825,  0.05717538,  0.06878858, ...,  0.08303292,\n",
              "         -0.05726499, -0.01744055]], dtype=float32),\n",
              " array([[-1.9543048e-02,  1.7949672e-02,  2.8413841e-01, ...,\n",
              "         -5.0975997e-02,  1.2212208e-01, -5.9623282e-02],\n",
              "        [-1.3759181e-01, -1.7732462e-01,  1.8406941e-01, ...,\n",
              "          2.0586860e-01, -2.7959477e-02,  1.2616134e-01],\n",
              "        [-5.3149264e-02, -1.3481797e-01,  9.6808016e-02, ...,\n",
              "          3.0800916e-02,  3.6854900e-02, -2.6626315e-04],\n",
              "        ...,\n",
              "        [-2.4743252e-01,  1.3489802e-01, -1.0432426e-01, ...,\n",
              "         -1.8765129e-01,  7.5082697e-02, -1.3864604e-02],\n",
              "        [-4.3338027e-02,  5.6307934e-02, -3.4008959e-01, ...,\n",
              "         -9.2455894e-02, -1.2018071e-01, -6.0262106e-02],\n",
              "        [-1.3816531e-01, -1.9288197e-01, -6.4214863e-02, ...,\n",
              "         -2.0276380e-01, -1.8607240e-02, -9.1183580e-02]], dtype=float32),\n",
              " array([ 0.00845434, -0.05324834,  0.0002364 ,  0.04019516,  0.00706645,\n",
              "        -0.0506928 ,  0.05417683, -0.02915906,  0.06383759, -0.00211349,\n",
              "        -0.00681823,  0.06185179,  0.00450607, -0.05444952,  0.0484359 ,\n",
              "        -0.01779232, -0.03802518, -0.04466913,  0.06462405, -0.00817778,\n",
              "         0.05252222,  0.02237277, -0.03035262, -0.01708764, -0.08044992,\n",
              "        -0.00187475,  0.09736445, -0.00504289, -0.10568052, -0.05332206,\n",
              "         0.03957324, -0.03819717, -0.03215901,  0.0370888 , -0.01154856,\n",
              "         0.01701538,  0.04365909, -0.05457329,  0.01990563, -0.07435179,\n",
              "         0.11187557,  0.00724231,  0.01883757, -0.02412976, -0.07304329,\n",
              "        -0.01127775, -0.01624415,  0.01243738,  0.03467008,  0.07885089,\n",
              "         0.01154737,  0.03871962, -0.06071273,  0.03559684,  0.05390605,\n",
              "        -0.01986846,  0.0632007 ,  0.02193588,  0.03799754,  0.03059193,\n",
              "        -0.07456703,  0.01975464, -0.06592914,  0.00146065, -0.01840399,\n",
              "        -0.01374616,  0.02592064,  0.04768927,  0.03619593,  0.00727684,\n",
              "        -0.01427526, -0.02187375, -0.07909019, -0.01980328,  0.00248306,\n",
              "         0.00586142,  0.00304849,  0.03268876,  0.02202276,  0.06176576,\n",
              "        -0.07498072,  0.04144467, -0.01440717,  0.06269933,  0.02516382,\n",
              "        -0.03008765, -0.06390734, -0.04718021, -0.02743955, -0.0497457 ,\n",
              "         0.02625199, -0.08449066,  0.01462945, -0.00642646,  0.04114353,\n",
              "         0.03531001,  0.03232688, -0.0028689 ,  0.05245885, -0.08060431,\n",
              "         0.05102919,  0.06797037, -0.07431352, -0.06171186,  0.06725953,\n",
              "        -0.03841306,  0.03774622,  0.05213243, -0.07088596,  0.02459283,\n",
              "        -0.0274473 ,  0.01449357, -0.02818027, -0.09931481, -0.02966784,\n",
              "        -0.01284548,  0.01906008, -0.05670037, -0.03293516, -0.03221027,\n",
              "        -0.02989127, -0.055961  , -0.01794418, -0.02686454, -0.02437831,\n",
              "        -0.09022257, -0.01879979,  0.04179639], dtype=float32),\n",
              " array([[ 1.91223204e-01],\n",
              "        [-3.21210355e-01],\n",
              "        [ 5.12256980e-01],\n",
              "        [-4.74939525e-01],\n",
              "        [ 6.12911344e-01],\n",
              "        [-3.05833761e-02],\n",
              "        [-2.87187934e-01],\n",
              "        [-3.13875591e-03],\n",
              "        [-1.91812158e-01],\n",
              "        [-3.70278880e-02],\n",
              "        [ 5.59247851e-01],\n",
              "        [-4.33927476e-01],\n",
              "        [ 1.42553195e-01],\n",
              "        [ 2.38788977e-01],\n",
              "        [-7.10776269e-01],\n",
              "        [-4.56212729e-01],\n",
              "        [ 1.70454592e-01],\n",
              "        [-5.17460667e-02],\n",
              "        [-5.57952039e-02],\n",
              "        [-5.97106993e-01],\n",
              "        [-8.58787358e-01],\n",
              "        [-5.08601144e-02],\n",
              "        [ 3.30345422e-01],\n",
              "        [-5.49601652e-02],\n",
              "        [-1.82618815e-02],\n",
              "        [ 5.89588940e-01],\n",
              "        [-5.00455678e-01],\n",
              "        [-4.22568023e-01],\n",
              "        [ 3.01089864e-02],\n",
              "        [ 7.00089186e-02],\n",
              "        [-1.04266301e-01],\n",
              "        [ 3.16910058e-01],\n",
              "        [-3.71236075e-03],\n",
              "        [-1.25015244e-01],\n",
              "        [-2.10369080e-01],\n",
              "        [ 2.99268544e-01],\n",
              "        [-3.51435214e-01],\n",
              "        [ 2.95721024e-01],\n",
              "        [-1.84098899e-01],\n",
              "        [-6.47460818e-02],\n",
              "        [-5.07364511e-01],\n",
              "        [-2.01952726e-01],\n",
              "        [ 6.96936607e-01],\n",
              "        [-4.12332416e-01],\n",
              "        [-1.71665177e-01],\n",
              "        [ 1.52456954e-01],\n",
              "        [ 5.46247602e-01],\n",
              "        [-3.22268121e-02],\n",
              "        [ 2.73848087e-01],\n",
              "        [-3.82179439e-01],\n",
              "        [ 3.68066102e-01],\n",
              "        [ 2.70787813e-02],\n",
              "        [ 4.67013359e-01],\n",
              "        [-3.83521110e-01],\n",
              "        [ 3.83546948e-02],\n",
              "        [-2.19802678e-01],\n",
              "        [-4.23076868e-01],\n",
              "        [-2.22987220e-01],\n",
              "        [-1.50742292e-01],\n",
              "        [-3.35588716e-02],\n",
              "        [-2.30065342e-02],\n",
              "        [ 5.69329932e-02],\n",
              "        [-3.60229135e-01],\n",
              "        [-3.60085309e-01],\n",
              "        [ 3.48713040e-01],\n",
              "        [ 4.45305817e-02],\n",
              "        [-2.06981376e-01],\n",
              "        [-2.38905430e-01],\n",
              "        [ 1.52983055e-01],\n",
              "        [ 2.86414564e-01],\n",
              "        [ 1.02118701e-01],\n",
              "        [ 4.01600413e-02],\n",
              "        [ 1.59335539e-01],\n",
              "        [-1.83712974e-01],\n",
              "        [-6.26546562e-01],\n",
              "        [ 1.19107127e-01],\n",
              "        [ 5.28195739e-01],\n",
              "        [-2.17822567e-01],\n",
              "        [-4.15833592e-01],\n",
              "        [-5.00558197e-01],\n",
              "        [ 1.03784136e-01],\n",
              "        [-1.38999775e-01],\n",
              "        [ 2.44341195e-01],\n",
              "        [-1.27685666e-01],\n",
              "        [ 9.05308425e-02],\n",
              "        [-1.83927998e-01],\n",
              "        [ 1.18669614e-01],\n",
              "        [-1.44491807e-01],\n",
              "        [ 1.88207462e-01],\n",
              "        [-3.38604629e-01],\n",
              "        [ 6.66965187e-01],\n",
              "        [-3.46587092e-01],\n",
              "        [ 1.27736598e-01],\n",
              "        [ 4.39297140e-01],\n",
              "        [-5.91018535e-02],\n",
              "        [-4.60142404e-01],\n",
              "        [-1.31214410e-01],\n",
              "        [ 2.86247700e-01],\n",
              "        [-2.48986632e-01],\n",
              "        [-2.45071471e-01],\n",
              "        [-4.66544658e-01],\n",
              "        [ 2.09790334e-01],\n",
              "        [-3.59262638e-02],\n",
              "        [-1.14739999e-01],\n",
              "        [-5.40509224e-01],\n",
              "        [ 6.99400157e-02],\n",
              "        [-1.67256847e-01],\n",
              "        [-4.06363979e-02],\n",
              "        [-1.64078025e-03],\n",
              "        [-2.91043997e-01],\n",
              "        [-2.68010020e-01],\n",
              "        [ 4.00592871e-02],\n",
              "        [-1.91995531e-01],\n",
              "        [ 4.36601974e-02],\n",
              "        [-3.51924986e-01],\n",
              "        [ 3.78142074e-02],\n",
              "        [ 2.79244478e-03],\n",
              "        [ 2.80541271e-01],\n",
              "        [-5.25915474e-02],\n",
              "        [ 3.47316206e-01],\n",
              "        [ 1.99074358e-01],\n",
              "        [ 1.55639365e-01],\n",
              "        [-9.09287781e-02],\n",
              "        [ 1.34188473e-01],\n",
              "        [-1.72497181e-04],\n",
              "        [-4.39834781e-02],\n",
              "        [-7.82985762e-02],\n",
              "        [-2.58566082e-01]], dtype=float32),\n",
              " array([0.3087095], dtype=float32)]"
            ]
          },
          "metadata": {},
          "execution_count": 15
        }
      ]
    },
    {
      "cell_type": "code",
      "source": [
        "def decoded_review(encoded_review):\n",
        "  return ' '.join([reverse_word_index.get(i-3,'?') for i in encoded_review])"
      ],
      "metadata": {
        "id": "QzGrhBQy_dtN"
      },
      "execution_count": 39,
      "outputs": []
    },
    {
      "cell_type": "code",
      "source": [
        "def preprocess_text(text):\n",
        "  words=text.lower().split()\n",
        "  encoded_review=[word_index.get(word,2)+ 3 for word in words]\n",
        "  padded_review=sequence.pad_sequences([encoded_review],maxlen=500)\n",
        "  return padded_review\n"
      ],
      "metadata": {
        "id": "TATFL6HD-H9O"
      },
      "execution_count": 44,
      "outputs": []
    },
    {
      "cell_type": "code",
      "source": [
        "def predict_sentiment(review):\n",
        "  preprocessed_input=preprocess_text(review)\n",
        "  prediction=model.predict(preprocessed_input)[0][0]\n",
        "  sentiment = \"Positive 😀\" if prediction > 0.5 else \"Negative 😞\"\n",
        "  return sentiment, round(float(prediction), 4)"
      ],
      "metadata": {
        "id": "L3ENkF9U_-YX"
      },
      "execution_count": 48,
      "outputs": []
    },
    {
      "cell_type": "code",
      "source": [
        "print(model.predict(preprocess_text(\"This movie is amazing\")).shape)\n"
      ],
      "metadata": {
        "colab": {
          "base_uri": "https://localhost:8080/"
        },
        "id": "lAwbubMQBFvT",
        "outputId": "4deb2521-626a-49a3-9ea4-0daebca84a87"
      },
      "execution_count": 49,
      "outputs": [
        {
          "output_type": "stream",
          "name": "stdout",
          "text": [
            "\u001b[1m1/1\u001b[0m \u001b[32m━━━━━━━━━━━━━━━━━━━━\u001b[0m\u001b[37m\u001b[0m \u001b[1m0s\u001b[0m 61ms/step\n",
            "(1, 1)\n"
          ]
        }
      ]
    },
    {
      "cell_type": "code",
      "source": [
        "review = \"The movie was waste movie!\"\n",
        "sentiment, score = predict_sentiment(review)\n",
        "print(f\"Sentiment: {sentiment}\\nScore: {score}\")"
      ],
      "metadata": {
        "colab": {
          "base_uri": "https://localhost:8080/"
        },
        "id": "5eUAoRsRChNO",
        "outputId": "1e8f843e-4f54-46a0-f824-20013442976f"
      },
      "execution_count": 55,
      "outputs": [
        {
          "output_type": "stream",
          "name": "stdout",
          "text": [
            "\u001b[1m1/1\u001b[0m \u001b[32m━━━━━━━━━━━━━━━━━━━━\u001b[0m\u001b[37m\u001b[0m \u001b[1m0s\u001b[0m 56ms/step\n",
            "Sentiment: Negative 😞\n",
            "Score: 0.3572\n"
          ]
        }
      ]
    }
  ]
}